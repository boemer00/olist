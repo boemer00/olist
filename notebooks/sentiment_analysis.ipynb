{
 "cells": [
  {
   "cell_type": "code",
   "execution_count": 1,
   "id": "192c6914-8839-4ef8-970a-356f5531c99a",
   "metadata": {
    "tags": []
   },
   "outputs": [],
   "source": [
    "%load_ext autoreload\n",
    "%autoreload 2"
   ]
  },
  {
   "cell_type": "code",
   "execution_count": 2,
   "id": "943ec3c3-ba42-4320-8126-c1cea549a0dc",
   "metadata": {
    "tags": []
   },
   "outputs": [],
   "source": [
    "import re\n",
    "import spacy.cli\n",
    "import numpy as np\n",
    "import pandas as pd\n",
    "import seaborn as sns\n",
    "from datetime import datetime\n",
    "import matplotlib.pyplot as plt"
   ]
  },
  {
   "cell_type": "code",
   "execution_count": 3,
   "id": "d4132ff0-3a2b-467f-a399-842b40681524",
   "metadata": {},
   "outputs": [],
   "source": [
    "import pt_core_news_sm\n",
    "spc_pt = pt_core_news_sm.load()"
   ]
  },
  {
   "cell_type": "code",
   "execution_count": 4,
   "id": "ae74883c-c8bf-48cc-8d81-f822157515be",
   "metadata": {
    "tags": []
   },
   "outputs": [],
   "source": [
    "from olist.data import Olist\n",
    "data = Olist().get_data()"
   ]
  },
  {
   "cell_type": "code",
   "execution_count": 5,
   "id": "1acb7523-cc73-4579-a6da-7c7e2f364d63",
   "metadata": {},
   "outputs": [],
   "source": [
    "# from olist.seller_updated import Seller\n",
    "# sellers = Seller().get_training_data()"
   ]
  },
  {
   "cell_type": "code",
   "execution_count": 6,
   "id": "4ae7ee53-baf3-4234-95a4-dff090be1cfb",
   "metadata": {},
   "outputs": [],
   "source": [
    "# from olist.product import Product\n",
    "# products = Product().get_training_data()"
   ]
  },
  {
   "cell_type": "code",
   "execution_count": 7,
   "id": "ed7b183d-4897-4bc2-9e8f-5cf4370c0b49",
   "metadata": {},
   "outputs": [],
   "source": [
    "reviews = data['order_reviews'].copy()"
   ]
  },
  {
   "cell_type": "markdown",
   "id": "cb824811-ddaa-4fa6-bd0b-cd7647b97b04",
   "metadata": {},
   "source": [
    "### 1. Data Cleaning"
   ]
  },
  {
   "cell_type": "code",
   "execution_count": 8,
   "id": "18604647-23af-4db5-821f-5959695c3e98",
   "metadata": {},
   "outputs": [
    {
     "data": {
      "text/plain": [
       "review_id                      0\n",
       "order_id                       0\n",
       "review_score                   0\n",
       "review_comment_title       88285\n",
       "review_comment_message     58247\n",
       "review_creation_date           0\n",
       "review_answer_timestamp        0\n",
       "dtype: int64"
      ]
     },
     "execution_count": 8,
     "metadata": {},
     "output_type": "execute_result"
    }
   ],
   "source": [
    "reviews.isnull().sum()"
   ]
  },
  {
   "cell_type": "markdown",
   "id": "ad03f743-386c-45e6-8f02-b849bb33e452",
   "metadata": {},
   "source": [
    "#### Duplicates"
   ]
  },
  {
   "cell_type": "code",
   "execution_count": 9,
   "id": "53433c78-a904-4949-97cd-04fd6fc38f13",
   "metadata": {},
   "outputs": [
    {
     "name": "stdout",
     "output_type": "stream",
     "text": [
      "0.9189%\n"
     ]
    }
   ],
   "source": [
    "# test for duplicates\n",
    "dup = round(sum(reviews.duplicated(\"review_id\")) / (len(data) * 100), 4)\n",
    "print(f'{dup}%')"
   ]
  },
  {
   "cell_type": "code",
   "execution_count": 10,
   "id": "51b2f19a-9a32-4a4d-94b7-b9f16e359c76",
   "metadata": {},
   "outputs": [
    {
     "data": {
      "text/html": [
       "<div>\n",
       "<style scoped>\n",
       "    .dataframe tbody tr th:only-of-type {\n",
       "        vertical-align: middle;\n",
       "    }\n",
       "\n",
       "    .dataframe tbody tr th {\n",
       "        vertical-align: top;\n",
       "    }\n",
       "\n",
       "    .dataframe thead th {\n",
       "        text-align: right;\n",
       "    }\n",
       "</style>\n",
       "<table border=\"1\" class=\"dataframe\">\n",
       "  <thead>\n",
       "    <tr style=\"text-align: right;\">\n",
       "      <th></th>\n",
       "      <th>review_id</th>\n",
       "      <th>order_id</th>\n",
       "      <th>review_score</th>\n",
       "      <th>review_comment_title</th>\n",
       "      <th>review_comment_message</th>\n",
       "      <th>review_creation_date</th>\n",
       "      <th>review_answer_timestamp</th>\n",
       "    </tr>\n",
       "  </thead>\n",
       "  <tbody>\n",
       "    <tr>\n",
       "      <th>47045</th>\n",
       "      <td>00130cbe1f9d422698c812ed8ded1919</td>\n",
       "      <td>dfcdfc43867d1c1381bfaf62d6b9c195</td>\n",
       "      <td>1</td>\n",
       "      <td>NaN</td>\n",
       "      <td>O cartucho \"original HP\" 60XL não é reconhecid...</td>\n",
       "      <td>2018-03-07 00:00:00</td>\n",
       "      <td>2018-03-20 18:08:23</td>\n",
       "    </tr>\n",
       "    <tr>\n",
       "      <th>30062</th>\n",
       "      <td>00130cbe1f9d422698c812ed8ded1919</td>\n",
       "      <td>04a28263e085d399c97ae49e0b477efa</td>\n",
       "      <td>1</td>\n",
       "      <td>NaN</td>\n",
       "      <td>O cartucho \"original HP\" 60XL não é reconhecid...</td>\n",
       "      <td>2018-03-07 00:00:00</td>\n",
       "      <td>2018-03-20 18:08:23</td>\n",
       "    </tr>\n",
       "    <tr>\n",
       "      <th>63695</th>\n",
       "      <td>0115633a9c298b6a98bcbe4eee75345f</td>\n",
       "      <td>0c9850b2c179c1ef60d2855e2751d1fa</td>\n",
       "      <td>5</td>\n",
       "      <td>NaN</td>\n",
       "      <td>NaN</td>\n",
       "      <td>2017-09-21 00:00:00</td>\n",
       "      <td>2017-09-26 03:27:47</td>\n",
       "    </tr>\n",
       "    <tr>\n",
       "      <th>91399</th>\n",
       "      <td>0115633a9c298b6a98bcbe4eee75345f</td>\n",
       "      <td>78a4201f58af3463bdab842eea4bc801</td>\n",
       "      <td>5</td>\n",
       "      <td>NaN</td>\n",
       "      <td>NaN</td>\n",
       "      <td>2017-09-21 00:00:00</td>\n",
       "      <td>2017-09-26 03:27:47</td>\n",
       "    </tr>\n",
       "    <tr>\n",
       "      <th>57727</th>\n",
       "      <td>0174caf0ee5964646040cd94e15ac95e</td>\n",
       "      <td>74db91e33b4e1fd865356c89a61abf1f</td>\n",
       "      <td>1</td>\n",
       "      <td>NaN</td>\n",
       "      <td>Produto entregue dentro de embalagem do fornec...</td>\n",
       "      <td>2018-03-07 00:00:00</td>\n",
       "      <td>2018-03-08 03:00:53</td>\n",
       "    </tr>\n",
       "  </tbody>\n",
       "</table>\n",
       "</div>"
      ],
      "text/plain": [
       "                              review_id                          order_id  \\\n",
       "47045  00130cbe1f9d422698c812ed8ded1919  dfcdfc43867d1c1381bfaf62d6b9c195   \n",
       "30062  00130cbe1f9d422698c812ed8ded1919  04a28263e085d399c97ae49e0b477efa   \n",
       "63695  0115633a9c298b6a98bcbe4eee75345f  0c9850b2c179c1ef60d2855e2751d1fa   \n",
       "91399  0115633a9c298b6a98bcbe4eee75345f  78a4201f58af3463bdab842eea4bc801   \n",
       "57727  0174caf0ee5964646040cd94e15ac95e  74db91e33b4e1fd865356c89a61abf1f   \n",
       "\n",
       "       review_score review_comment_title  \\\n",
       "47045             1                  NaN   \n",
       "30062             1                  NaN   \n",
       "63695             5                  NaN   \n",
       "91399             5                  NaN   \n",
       "57727             1                  NaN   \n",
       "\n",
       "                                  review_comment_message review_creation_date  \\\n",
       "47045  O cartucho \"original HP\" 60XL não é reconhecid...  2018-03-07 00:00:00   \n",
       "30062  O cartucho \"original HP\" 60XL não é reconhecid...  2018-03-07 00:00:00   \n",
       "63695                                                NaN  2017-09-21 00:00:00   \n",
       "91399                                                NaN  2017-09-21 00:00:00   \n",
       "57727  Produto entregue dentro de embalagem do fornec...  2018-03-07 00:00:00   \n",
       "\n",
       "      review_answer_timestamp  \n",
       "47045     2018-03-20 18:08:23  \n",
       "30062     2018-03-20 18:08:23  \n",
       "63695     2017-09-26 03:27:47  \n",
       "91399     2017-09-26 03:27:47  \n",
       "57727     2018-03-08 03:00:53  "
      ]
     },
     "execution_count": 10,
     "metadata": {},
     "output_type": "execute_result"
    }
   ],
   "source": [
    "reviews[reviews.duplicated(\"review_id\", keep=False)].sort_values(by =\"review_id\").head(5)"
   ]
  },
  {
   "cell_type": "code",
   "execution_count": 11,
   "id": "7e8d36a2-b281-4f63-9e26-3cf564fff124",
   "metadata": {},
   "outputs": [],
   "source": [
    "# remove duplicates\n",
    "reviews.drop_duplicates(\"review_id\", inplace=True)"
   ]
  },
  {
   "cell_type": "code",
   "execution_count": 12,
   "id": "839dd9d8-8688-496a-a9b5-41ff80af413a",
   "metadata": {},
   "outputs": [],
   "source": [
    "# merge 'review_comment_title' e 'review_comment_message' and remove empty comments"
   ]
  },
  {
   "cell_type": "code",
   "execution_count": 13,
   "id": "3f40fb9b-5aca-4176-8aa4-fadd78999442",
   "metadata": {},
   "outputs": [],
   "source": [
    "# avoid issues when concatenating\n",
    "reviews.fillna('', inplace = True)"
   ]
  },
  {
   "cell_type": "code",
   "execution_count": 14,
   "id": "a363e922-277e-4844-b5f2-bdd94c74cac1",
   "metadata": {},
   "outputs": [],
   "source": [
    "# concat both columns\n",
    "reviews['review'] = reviews['review_comment_title'] + ' ' + reviews['review_comment_message']"
   ]
  },
  {
   "cell_type": "code",
   "execution_count": 15,
   "id": "3e0e0f9a-fcd9-4c3b-b4d4-34c97ccc2372",
   "metadata": {},
   "outputs": [],
   "source": [
    "# remove empty comments\n",
    "reviews = reviews[reviews['review'] != ' ']"
   ]
  },
  {
   "cell_type": "code",
   "execution_count": 16,
   "id": "955812a0-439a-41ce-ae37-e4c2df486c5a",
   "metadata": {},
   "outputs": [
    {
     "name": "stdout",
     "output_type": "stream",
     "text": [
      "<class 'pandas.core.frame.DataFrame'>\n",
      "Int64Index: 43152 entries, 3 to 99999\n",
      "Data columns (total 8 columns):\n",
      " #   Column                   Non-Null Count  Dtype \n",
      "---  ------                   --------------  ----- \n",
      " 0   review_id                43152 non-null  object\n",
      " 1   order_id                 43152 non-null  object\n",
      " 2   review_score             43152 non-null  int64 \n",
      " 3   review_comment_title     43152 non-null  object\n",
      " 4   review_comment_message   43152 non-null  object\n",
      " 5   review_creation_date     43152 non-null  object\n",
      " 6   review_answer_timestamp  43152 non-null  object\n",
      " 7   review                   43152 non-null  object\n",
      "dtypes: int64(1), object(7)\n",
      "memory usage: 3.0+ MB\n"
     ]
    }
   ],
   "source": [
    "reviews.info()"
   ]
  },
  {
   "cell_type": "markdown",
   "id": "9a4aa873-1610-4b88-b3b9-7e4d62686bde",
   "metadata": {},
   "source": [
    "### Review Scores"
   ]
  },
  {
   "cell_type": "code",
   "execution_count": 17,
   "id": "d243b110-8124-4c9b-8f02-e350d6c07d1b",
   "metadata": {},
   "outputs": [
    {
     "data": {
      "text/plain": [
       "1     9153\n",
       "2     2220\n",
       "3     3721\n",
       "4     6296\n",
       "5    21762\n",
       "Name: review_score, dtype: int64"
      ]
     },
     "execution_count": 17,
     "metadata": {},
     "output_type": "execute_result"
    }
   ],
   "source": [
    "reviews['review_score'].value_counts().sort_index()"
   ]
  },
  {
   "cell_type": "code",
   "execution_count": 18,
   "id": "da604f4c-d26a-421e-85ae-1100c3714844",
   "metadata": {},
   "outputs": [],
   "source": [
    "# classifying reviews\n",
    "labels = []\n",
    "for score in reviews['review_score']:\n",
    "    if score > 4:\n",
    "        labels.append(1)\n",
    "    else:\n",
    "        labels.append(0)\n",
    "\n",
    "reviews['label'] = labels"
   ]
  },
  {
   "cell_type": "code",
   "execution_count": 19,
   "id": "46044dc7-1c82-4728-98f9-190148f17114",
   "metadata": {},
   "outputs": [
    {
     "name": "stderr",
     "output_type": "stream",
     "text": [
      "[nltk_data] Downloading package stopwords to\n",
      "[nltk_data]     /Users/renatoboemer/nltk_data...\n",
      "[nltk_data]   Package stopwords is already up-to-date!\n"
     ]
    }
   ],
   "source": [
    "# importing stopwords for portuguese language\n",
    "import nltk\n",
    "nltk.download('stopwords')\n",
    "from nltk.corpus import stopwords"
   ]
  },
  {
   "cell_type": "code",
   "execution_count": 20,
   "id": "8d75bfba-c10b-4393-bd71-b6d229c283f8",
   "metadata": {},
   "outputs": [
    {
     "data": {
      "text/plain": [
       "['de', 'a', 'o', 'que', 'e']"
      ]
     },
     "execution_count": 20,
     "metadata": {},
     "output_type": "execute_result"
    }
   ],
   "source": [
    "stopwords_pt = stopwords.words(\"portuguese\")\n",
    "stopwords_pt[:5] # sample"
   ]
  },
  {
   "cell_type": "code",
   "execution_count": 21,
   "id": "68cea27c-0775-4d41-84d6-4f11376b77fa",
   "metadata": {},
   "outputs": [],
   "source": [
    "stopwords_pt.remove('não')\n",
    "stopwords_pt.remove('nem')"
   ]
  },
  {
   "cell_type": "code",
   "execution_count": 22,
   "id": "2c047d57-a98b-47f4-80ce-8e8c40007b41",
   "metadata": {},
   "outputs": [],
   "source": [
    "def cleaning(comment):\n",
    "    \"\"\"\"\n",
    "    lowercase str, select letters, remove stopwords \n",
    "    lemmatise and returns a str \n",
    "    \"\"\"\n",
    "    comment = re.sub(r'[\\W\\d_]+', ' ', comment.lower())\n",
    "    comment = [word for word in comment.split() if word not in stopwords_pt]\n",
    "    spc_comment = spc_pt(\" \".join(comment))\n",
    "    tokens = [word.lemma_ if word.lemma_ != \"-PRON-\" else word.lower_ for word in spc_comment]\n",
    "  \n",
    "    return ' '.join(tokens)"
   ]
  },
  {
   "cell_type": "code",
   "execution_count": 23,
   "id": "7d21c91a-07fc-4485-bae7-537e9e7dd5c5",
   "metadata": {},
   "outputs": [],
   "source": [
    "reviews['review'] = reviews['review'].apply(cleaning)"
   ]
  },
  {
   "cell_type": "code",
   "execution_count": 24,
   "id": "fb1bb2b5-9956-4f8c-b06e-d9c5c1eedf08",
   "metadata": {},
   "outputs": [
    {
     "name": "stdout",
     "output_type": "stream",
     "text": [
      "<class 'pandas.core.frame.DataFrame'>\n",
      "Int64Index: 43152 entries, 3 to 99999\n",
      "Data columns (total 9 columns):\n",
      " #   Column                   Non-Null Count  Dtype \n",
      "---  ------                   --------------  ----- \n",
      " 0   review_id                43152 non-null  object\n",
      " 1   order_id                 43152 non-null  object\n",
      " 2   review_score             43152 non-null  int64 \n",
      " 3   review_comment_title     43152 non-null  object\n",
      " 4   review_comment_message   43152 non-null  object\n",
      " 5   review_creation_date     43152 non-null  object\n",
      " 6   review_answer_timestamp  43152 non-null  object\n",
      " 7   review                   43152 non-null  object\n",
      " 8   label                    43152 non-null  int64 \n",
      "dtypes: int64(2), object(7)\n",
      "memory usage: 3.3+ MB\n"
     ]
    }
   ],
   "source": [
    "reviews.info()"
   ]
  },
  {
   "cell_type": "code",
   "execution_count": 25,
   "id": "da67a2df-c8b9-457f-9001-1f8e6c97d075",
   "metadata": {},
   "outputs": [],
   "source": [
    "reviews = reviews[reviews['review'] != '']"
   ]
  },
  {
   "cell_type": "markdown",
   "id": "b8b39faa-be0c-43a7-b30b-d3e71e6558e1",
   "metadata": {},
   "source": [
    "### Bags"
   ]
  },
  {
   "cell_type": "code",
   "execution_count": 26,
   "id": "bbbf4486-3466-4cdf-afe4-1d56a147e68d",
   "metadata": {},
   "outputs": [],
   "source": [
    "from sklearn.feature_extraction.text import CountVectorizer"
   ]
  },
  {
   "cell_type": "code",
   "execution_count": 27,
   "id": "2ef9130a-5632-45f6-8372-38512840635b",
   "metadata": {},
   "outputs": [],
   "source": [
    "# Instantiate the CountVectorizer, set binary=True\n",
    "vectorizer = CountVectorizer(binary=True, max_features=5000)\n",
    "text = reviews['review']\n",
    "\n",
    "# Vectorise\n",
    "X_bow = vectorizer.fit_transform(text)"
   ]
  },
  {
   "cell_type": "code",
   "execution_count": 28,
   "id": "72634d66-a2ce-4bf5-b3f3-842273c6a182",
   "metadata": {},
   "outputs": [
    {
     "data": {
      "text/plain": [
       "array([[0, 0, 0, ..., 0, 0, 0],\n",
       "       [0, 0, 0, ..., 0, 0, 0],\n",
       "       [0, 0, 0, ..., 0, 0, 0],\n",
       "       ...,\n",
       "       [0, 0, 0, ..., 0, 0, 0],\n",
       "       [0, 0, 0, ..., 0, 0, 0],\n",
       "       [0, 0, 0, ..., 0, 0, 0]])"
      ]
     },
     "execution_count": 28,
     "metadata": {},
     "output_type": "execute_result"
    }
   ],
   "source": [
    "X_bow.toarray()"
   ]
  },
  {
   "cell_type": "code",
   "execution_count": 29,
   "id": "fc831e17-6967-4b57-9565-98946926f031",
   "metadata": {},
   "outputs": [
    {
     "name": "stdout",
     "output_type": "stream",
     "text": [
      "(42891, 5000) <class 'scipy.sparse.csr.csr_matrix'>\n"
     ]
    }
   ],
   "source": [
    "print(X_bow.shape, type(X_bow))"
   ]
  },
  {
   "cell_type": "markdown",
   "id": "09bb0266-195d-410f-a3a0-fb7ac92d1697",
   "metadata": {},
   "source": [
    "#### TF-IDF"
   ]
  },
  {
   "cell_type": "code",
   "execution_count": 30,
   "id": "f38dbf9b-06fb-40cd-8ec3-863e38c311ec",
   "metadata": {},
   "outputs": [],
   "source": [
    "from sklearn.feature_extraction.text import TfidfVectorizer"
   ]
  },
  {
   "cell_type": "code",
   "execution_count": 31,
   "id": "fa76f986-c0c1-41f3-892a-50ac198073e2",
   "metadata": {},
   "outputs": [],
   "source": [
    "# Instantiate TfidfVectorizer\n",
    "tfidf_vect = TfidfVectorizer(max_features=5000)\n",
    "\n",
    "# Vectorise\n",
    "X_tfidf = tfidf_vect.fit_transform(text)"
   ]
  },
  {
   "cell_type": "markdown",
   "id": "691291e3-e83e-4cd2-a806-03b636f98fe0",
   "metadata": {},
   "source": [
    "#### Models"
   ]
  },
  {
   "cell_type": "code",
   "execution_count": 32,
   "id": "feb18eb6-72e6-46ca-a80c-8e985a480c7d",
   "metadata": {},
   "outputs": [],
   "source": [
    "from sklearn.model_selection import train_test_split"
   ]
  },
  {
   "cell_type": "code",
   "execution_count": 33,
   "id": "9bfe3008-1e1b-438f-862f-4be66fbec183",
   "metadata": {},
   "outputs": [],
   "source": [
    "X1_train, X1_test, y1_train, y1_test = train_test_split(X_bow, reviews['label'],\n",
    "                                                        test_size=0.3, random_state = 10)\n",
    "\n",
    "X2_train, X2_test, y2_train, y2_test = train_test_split(X_tfidf, reviews['label'],\n",
    "                                                        test_size=0.3, random_state = 10)"
   ]
  },
  {
   "cell_type": "code",
   "execution_count": 34,
   "id": "a153ef0b-175a-4795-b526-a009225d34c1",
   "metadata": {},
   "outputs": [],
   "source": [
    "from sklearn.metrics import accuracy_score, confusion_matrix, f1_score, roc_auc_score"
   ]
  },
  {
   "cell_type": "code",
   "execution_count": 35,
   "id": "ff626269-4ef6-4f40-bd91-b1856c84048e",
   "metadata": {},
   "outputs": [],
   "source": [
    "def metrics(y_true, y_pred):\n",
    "    print(\"Accuracy: \", accuracy_score(y_true, y_pred))\n",
    "    print(\"\\nAUROC:\", roc_auc_score(y_true, y_pred))\n",
    "    print(\"\\nF1-Score:\", f1_score(y_true, y_pred, average='weighted'))\n",
    "    print(\"\\nMatriz de confusão:\")\n",
    "    sns.heatmap(confusion_matrix(y_true, y_pred), annot=True)\n",
    "    plt.show()"
   ]
  },
  {
   "cell_type": "markdown",
   "id": "c9b7bd38-86ae-46d1-9a63-4eacdbac55ad",
   "metadata": {},
   "source": [
    "### Logistic Regression"
   ]
  },
  {
   "cell_type": "code",
   "execution_count": 36,
   "id": "dac95fa1-ae47-4e60-b8db-8b304e9fa81f",
   "metadata": {},
   "outputs": [],
   "source": [
    "from sklearn.linear_model import LogisticRegression"
   ]
  },
  {
   "cell_type": "code",
   "execution_count": 37,
   "id": "343bea9a-234a-447d-9f45-4a6271a5673d",
   "metadata": {},
   "outputs": [
    {
     "name": "stderr",
     "output_type": "stream",
     "text": [
      "/Users/renatoboemer/.pyenv/versions/3.8.6/envs/lewagon/lib/python3.8/site-packages/sklearn/linear_model/_logistic.py:763: ConvergenceWarning: lbfgs failed to converge (status=1):\n",
      "STOP: TOTAL NO. of ITERATIONS REACHED LIMIT.\n",
      "\n",
      "Increase the number of iterations (max_iter) or scale the data as shown in:\n",
      "    https://scikit-learn.org/stable/modules/preprocessing.html\n",
      "Please also refer to the documentation for alternative solver options:\n",
      "    https://scikit-learn.org/stable/modules/linear_model.html#logistic-regression\n",
      "  n_iter_i = _check_optimize_result(\n"
     ]
    },
    {
     "data": {
      "text/plain": [
       "LogisticRegression()"
      ]
     },
     "execution_count": 37,
     "metadata": {},
     "output_type": "execute_result"
    }
   ],
   "source": [
    "reglog = LogisticRegression()\n",
    "reglog.fit(X1_train, y1_train)"
   ]
  },
  {
   "cell_type": "code",
   "execution_count": 38,
   "id": "cd26468b-914d-437a-a217-0f0542128203",
   "metadata": {},
   "outputs": [],
   "source": [
    "y1_reglog_pred = reglog.predict(X1_test)"
   ]
  },
  {
   "cell_type": "code",
   "execution_count": 39,
   "id": "d33719ea-2aa7-4c28-904d-b9215ab7d955",
   "metadata": {},
   "outputs": [
    {
     "name": "stdout",
     "output_type": "stream",
     "text": [
      "Accuracy:  0.8305097917314268\n",
      "\n",
      "AUROC: 0.8300204561827561\n",
      "\n",
      "F1-Score: 0.8296214688230983\n",
      "\n",
      "Matriz de confusão:\n"
     ]
    },
    {
     "data": {
      "image/png": "[encoded data removed]",
      "text/plain": [
       "<Figure size 432x288 with 2 Axes>"
      ]
     },
     "metadata": {
      "needs_background": "light"
     },
     "output_type": "display_data"
    }
   ],
   "source": [
    "metrics(y1_test, y1_reglog_pred)"
   ]
  },
  {
   "cell_type": "code",
   "execution_count": 40,
   "id": "5f27d2f9-bcea-44c0-b5d6-634d0a5ab0c2",
   "metadata": {},
   "outputs": [
    {
     "name": "stderr",
     "output_type": "stream",
     "text": [
      "/Users/renatoboemer/.pyenv/versions/3.8.6/envs/lewagon/lib/python3.8/site-packages/sklearn/linear_model/_logistic.py:763: ConvergenceWarning: lbfgs failed to converge (status=1):\n",
      "STOP: TOTAL NO. of ITERATIONS REACHED LIMIT.\n",
      "\n",
      "Increase the number of iterations (max_iter) or scale the data as shown in:\n",
      "    https://scikit-learn.org/stable/modules/preprocessing.html\n",
      "Please also refer to the documentation for alternative solver options:\n",
      "    https://scikit-learn.org/stable/modules/linear_model.html#logistic-regression\n",
      "  n_iter_i = _check_optimize_result(\n"
     ]
    }
   ],
   "source": [
    "reglog2 = LogisticRegression()\n",
    "reglog2.fit(X2_train, y2_train)\n",
    "y2_reglog_pred = reglog2.predict(X2_test)"
   ]
  },
  {
   "cell_type": "code",
   "execution_count": 41,
   "id": "a34e2c6e-a819-4cd8-90c9-215f109057e3",
   "metadata": {},
   "outputs": [
    {
     "name": "stdout",
     "output_type": "stream",
     "text": [
      "Accuracy:  0.8321417469692259\n",
      "\n",
      "AUROC: 0.8317737035054389\n",
      "\n",
      "F1-Score: 0.8316353604253662\n",
      "\n",
      "Matriz de confusão:\n"
     ]
    },
    {
     "data": {
      "image/png": "[encoded data removed]",
      "text/plain": [
       "<Figure size 432x288 with 2 Axes>"
      ]
     },
     "metadata": {
      "needs_background": "light"
     },
     "output_type": "display_data"
    }
   ],
   "source": [
    "metrics(y2_test, y2_reglog_pred)"
   ]
  },
  {
   "cell_type": "markdown",
   "id": "4427be63-ac4c-4480-bacb-2f134e93361a",
   "metadata": {},
   "source": [
    "### Testing"
   ]
  },
  {
   "cell_type": "code",
   "execution_count": 42,
   "id": "deb4a4da-b923-47b4-83a0-23ec190fd5e6",
   "metadata": {},
   "outputs": [],
   "source": [
    "def predicting(texto):\n",
    "    texto_vetorizado = tfidf_vect.transform([texto])\n",
    "    pred = reglog2.predict(texto_vetorizado)\n",
    "    if pred == 0:\n",
    "        print('Negative Review')\n",
    "    else:\n",
    "        print('Positive Review')"
   ]
  },
  {
   "cell_type": "code",
   "execution_count": 43,
   "id": "5f5a88b1-b708-4651-aec6-f50ef8a69605",
   "metadata": {},
   "outputs": [
    {
     "name": "stdout",
     "output_type": "stream",
     "text": [
      "Negative Review\n"
     ]
    }
   ],
   "source": [
    "predicting('Esse produto é um lixo!') # negative"
   ]
  },
  {
   "cell_type": "code",
   "execution_count": 55,
   "id": "85f194c9-1483-4acd-b76d-59025f5206e4",
   "metadata": {},
   "outputs": [
    {
     "name": "stdout",
     "output_type": "stream",
     "text": [
      "Positive Review\n"
     ]
    }
   ],
   "source": [
    "predicting('bom')   # positive --> not working!"
   ]
  },
  {
   "cell_type": "code",
   "execution_count": null,
   "id": "e8190f8c-5992-4e94-89dc-8415d3f111c4",
   "metadata": {},
   "outputs": [],
   "source": []
  }
 ],
 "metadata": {
  "kernelspec": {
   "display_name": "Python 3",
   "language": "python",
   "name": "python3"
  },
  "language_info": {
   "codemirror_mode": {
    "name": "ipython",
    "version": 3
   },
   "file_extension": ".py",
   "mimetype": "text/x-python",
   "name": "python",
   "nbconvert_exporter": "python",
   "pygments_lexer": "ipython3",
   "version": "3.8.6"
  },
  "toc": {
   "base_numbering": 1,
   "nav_menu": {},
   "number_sections": true,
   "sideBar": true,
   "skip_h1_title": false,
   "title_cell": "Table of Contents",
   "title_sidebar": "Contents",
   "toc_cell": false,
   "toc_position": {},
   "toc_section_display": true,
   "toc_window_display": false
  }
 },
 "nbformat": 4,
 "nbformat_minor": 5
}
